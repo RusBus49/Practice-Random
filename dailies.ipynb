{
 "cells": [
  {
   "cell_type": "code",
   "execution_count": 1,
   "id": "ab980cd0",
   "metadata": {},
   "outputs": [
    {
     "name": "stdout",
     "output_type": "stream",
     "text": [
      "132.26\n"
     ]
    }
   ],
   "source": [
    "#08/11/2025\n",
    "\n",
    "c_temp =  float(input('What is the temperature in celcius?'))\n",
    "\n",
    "def celcius_to_fahrenheit(c_temp):\n",
    "  f_temp = (c_temp*(9/5))+32\n",
    "  \n",
    "  return f_temp\n",
    "\n",
    "print(celcius_to_fahrenheit(c_temp))"
   ]
  },
  {
   "cell_type": "code",
   "execution_count": 8,
   "id": "8a8fc8a8",
   "metadata": {},
   "outputs": [
    {
     "name": "stdout",
     "output_type": "stream",
     "text": [
      "The student's grade is F\n"
     ]
    }
   ],
   "source": [
    "#08/12/2025\n",
    "\n",
    "x = float(input('What is the percentage score'))\n",
    "\n",
    "def letter_grade(x):\n",
    "  if x > 100:\n",
    "    grade = 'N/A -over 100%'\n",
    "  elif x >= 90:\n",
    "    grade = 'A'\n",
    "  elif x >= 80:\n",
    "    grade = 'B'\n",
    "  elif x >= 70:\n",
    "    grade = 'C'\n",
    "  elif x >= 60:\n",
    "    grade = 'D'\n",
    "  elif x >= 0:\n",
    "    grade = 'F'\n",
    "  else:\n",
    "    grade = 'N/A -negative.'\n",
    "  return grade  \n",
    "  \n",
    "student_grade = letter_grade(x)  \n",
    "  \n",
    "print(f\"The student's grade is {student_grade}\")"
   ]
  },
  {
   "cell_type": "code",
   "execution_count": 1,
   "id": "2e40a8ee",
   "metadata": {},
   "outputs": [
    {
     "data": {
      "text/plain": [
       "77"
      ]
     },
     "execution_count": 1,
     "metadata": {},
     "output_type": "execute_result"
    }
   ],
   "source": [
    "#08/14/2025\n",
    "\n",
    "numbers = [1,4,12,6,-2,77,-42,9]\n",
    "\n",
    "def find_maximum(numbers):\n",
    "  max = numbers[0]\n",
    "  for x in numbers:\n",
    "    if x > max:\n",
    "      max = x\n",
    "  return max\n",
    "\n",
    "find_maximum(numbers)"
   ]
  },
  {
   "cell_type": "code",
   "execution_count": 8,
   "id": "3bbc8bce",
   "metadata": {},
   "outputs": [
    {
     "data": {
      "text/plain": [
       "4"
      ]
     },
     "execution_count": 8,
     "metadata": {},
     "output_type": "execute_result"
    }
   ],
   "source": [
    "#08/15/2025\n",
    "\n",
    "user_input = str(input('What do you want to say?'))\n",
    "\n",
    "def count_words(user_input):\n",
    "  word_list = user_input.split()\n",
    "  #return word_list\n",
    "  return len(word_list)\n",
    "\n",
    "count_words(user_input)"
   ]
  }
 ],
 "metadata": {
  "kernelspec": {
   "display_name": "Python 3",
   "language": "python",
   "name": "python3"
  },
  "language_info": {
   "codemirror_mode": {
    "name": "ipython",
    "version": 3
   },
   "file_extension": ".py",
   "mimetype": "text/x-python",
   "name": "python",
   "nbconvert_exporter": "python",
   "pygments_lexer": "ipython3",
   "version": "3.12.3"
  }
 },
 "nbformat": 4,
 "nbformat_minor": 5
}
