{
 "cells": [
  {
   "cell_type": "code",
   "execution_count": 1,
   "id": "ab980cd0",
   "metadata": {},
   "outputs": [
    {
     "name": "stdout",
     "output_type": "stream",
     "text": [
      "132.26\n"
     ]
    }
   ],
   "source": [
    "#08/11/2025\n",
    "\n",
    "c_temp =  float(input('What is the temperature in celcius?'))\n",
    "\n",
    "def celcius_to_fahrenheit(c_temp):\n",
    "  f_temp = (c_temp*(9/5))+32\n",
    "  \n",
    "  return f_temp\n",
    "\n",
    "print(celcius_to_fahrenheit(c_temp))"
   ]
  },
  {
   "cell_type": "code",
   "execution_count": 8,
   "id": "8a8fc8a8",
   "metadata": {},
   "outputs": [
    {
     "name": "stdout",
     "output_type": "stream",
     "text": [
      "The student's grade is F\n"
     ]
    }
   ],
   "source": [
    "#08/12/2025\n",
    "\n",
    "x = float(input('What is the percentage score'))\n",
    "\n",
    "def letter_grade(x):\n",
    "  if x > 100:\n",
    "    grade = 'N/A -over 100%'\n",
    "  elif x >= 90:\n",
    "    grade = 'A'\n",
    "  elif x >= 80:\n",
    "    grade = 'B'\n",
    "  elif x >= 70:\n",
    "    grade = 'C'\n",
    "  elif x >= 60:\n",
    "    grade = 'D'\n",
    "  elif x >= 0:\n",
    "    grade = 'F'\n",
    "  else:\n",
    "    grade = 'N/A -negative.'\n",
    "  return grade  \n",
    "  \n",
    "student_grade = letter_grade(x)  \n",
    "  \n",
    "print(f\"The student's grade is {student_grade}\")"
   ]
  }
 ],
 "metadata": {
  "kernelspec": {
   "display_name": "Python 3",
   "language": "python",
   "name": "python3"
  },
  "language_info": {
   "codemirror_mode": {
    "name": "ipython",
    "version": 3
   },
   "file_extension": ".py",
   "mimetype": "text/x-python",
   "name": "python",
   "nbconvert_exporter": "python",
   "pygments_lexer": "ipython3",
   "version": "3.12.3"
  }
 },
 "nbformat": 4,
 "nbformat_minor": 5
}
