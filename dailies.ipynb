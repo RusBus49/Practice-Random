{
 "cells": [
  {
   "cell_type": "code",
   "execution_count": 5,
   "id": "ab980cd0",
   "metadata": {},
   "outputs": [
    {
     "name": "stdout",
     "output_type": "stream",
     "text": [
      "51.980000000000004\n"
     ]
    }
   ],
   "source": [
    "#08/11/2025\n",
    "\n",
    "c_temp =  float(input('What is the temperature in celcius?'))\n",
    "\n",
    "def celcius_to_fahrenheit(c_temp):\n",
    "  f_temp = (c_temp*(9/5))+32\n",
    "  \n",
    "  return f_temp\n",
    "\n",
    "print(celcius_to_fahrenheit(c_temp))"
   ]
  }
 ],
 "metadata": {
  "kernelspec": {
   "display_name": "Python 3",
   "language": "python",
   "name": "python3"
  },
  "language_info": {
   "codemirror_mode": {
    "name": "ipython",
    "version": 3
   },
   "file_extension": ".py",
   "mimetype": "text/x-python",
   "name": "python",
   "nbconvert_exporter": "python",
   "pygments_lexer": "ipython3",
   "version": "3.12.3"
  }
 },
 "nbformat": 4,
 "nbformat_minor": 5
}
