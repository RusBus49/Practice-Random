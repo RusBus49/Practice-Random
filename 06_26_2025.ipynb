{
 "cells": [
  {
   "cell_type": "code",
   "execution_count": 3,
   "id": "757d190d",
   "metadata": {},
   "outputs": [],
   "source": [
    "import sqlite3"
   ]
  },
  {
   "cell_type": "code",
   "execution_count": null,
   "id": "d85c64b0",
   "metadata": {},
   "outputs": [
    {
     "name": "stdout",
     "output_type": "stream",
     "text": [
      "There was a problem: near \"sql_table\": syntax error\n"
     ]
    }
   ],
   "source": [
    "def sql_table():\n",
    "  name_table = \"\"\"\n",
    "    CREATE TABLE IF NOT EXISTS first_name (\n",
    "    id INTEGER PRIMARY KEY,\n",
    "    first_name TEXT,\n",
    "    characters INTEGER\n",
    "    )\n",
    "  \"\"\"\n",
    "\n",
    "  try:\n",
    "    with sqlite3.connect('practice.db') as conn:\n",
    "      cursor = conn.cursor()\n",
    "      \n",
    "      cursor.execute(name_table)\n",
    "      print('Practice table and db created')\n",
    "      return conn\n",
    "      \n",
    "  except sqlite3.Error as e:\n",
    "    print(f'There was a problem: {e}')\n",
    "    return None\n",
    "    \n",
    "sql_table()"
   ]
  },
  {
   "cell_type": "code",
   "execution_count": null,
   "id": "9b55b7e1",
   "metadata": {},
   "outputs": [],
   "source": [
    "def insert_names(id, first_name, characters):\n",
    "  try:\n",
    "    with sqlite3.connect('practice.db') as conn:\n",
    "      cursor = conn.cursor()\n",
    "      \n",
    "      cursor.execute(\n",
    "        \"\"\"\n",
    "        INSERT INTO first_name (id, first_name, characters)\n",
    "        VALUES (?, ?, ?)\n",
    "      \"\"\", (id, first_name, characters))\n",
    "      \n",
    "      conn.commit()\n",
    "      print(f'Added {id} to id column, {first_name} to name column, and {characters}.')\n",
    "      \n",
    "  except sqlite3.error as e:\n",
    "    print(f'There was a problem: {e}')\n",
    "    \n",
    "insert_names(1, 'John', 4)"
   ]
  },
  {
   "cell_type": "code",
   "execution_count": null,
   "id": "a8fd1a92",
   "metadata": {},
   "outputs": [],
   "source": [
    "with sqlite3.connect('practice.db') as conn:\n",
    "  cursor = conn.cursor()\n",
    "  cursor.execute(\n",
    "    \"\"\"INSERT INTO first_name (first_name, characters)\n",
    "        VALUES (?, ?)\"\"\", ('Mike', 4))\n",
    "  conn.commit()"
   ]
  }
 ],
 "metadata": {
  "kernelspec": {
   "display_name": "Python 3",
   "language": "python",
   "name": "python3"
  },
  "language_info": {
   "codemirror_mode": {
    "name": "ipython",
    "version": 3
   },
   "file_extension": ".py",
   "mimetype": "text/x-python",
   "name": "python",
   "nbconvert_exporter": "python",
   "pygments_lexer": "ipython3",
   "version": "3.12.3"
  }
 },
 "nbformat": 4,
 "nbformat_minor": 5
}
