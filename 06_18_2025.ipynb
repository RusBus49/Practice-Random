{
 "cells": [
  {
   "cell_type": "markdown",
   "id": "2a32bed9",
   "metadata": {},
   "source": [
    "# Risk Analysis System\n",
    "### Part 1: Data Foundation\n",
    "### Part 2: Core Analysis\n",
    "### Part 3: Advanced Modeling"
   ]
  },
  {
   "cell_type": "code",
   "execution_count": null,
   "id": "c8318c98",
   "metadata": {},
   "outputs": [],
   "source": [
    "import sqlite3"
   ]
  },
  {
   "cell_type": "code",
   "execution_count": 9,
   "id": "2b59c4a9",
   "metadata": {},
   "outputs": [
    {
     "name": "stdout",
     "output_type": "stream",
     "text": [
      "Table 'securities' already exists.\n"
     ]
    }
   ],
   "source": [
    "connection = sqlite3.connect('risk_analysis.db')\n",
    "cursor = connection.cursor()\n",
    "\n",
    "sql_create_table = \"\"\"\n",
    "CREATE TABLE securities (\n",
    "  ticker TEXT PRIMARY KEY,\n",
    "  company_name TEXT NOT NULL,\n",
    "  industry TEXT,\n",
    "  shares_outstanding INTEGER,\n",
    "  current_beta REAL\n",
    ")\n",
    "\"\"\"\n",
    "\n",
    "# Check if the 'securities' table exists\n",
    "cursor.execute(\"SELECT name FROM sqlite_master WHERE type='table' AND name='securities';\")\n",
    "table_exists = cursor.fetchone()\n",
    "\n",
    "if not table_exists:\n",
    "  try:\n",
    "    cursor.execute(sql_create_table)\n",
    "    connection.commit()\n",
    "  except Exception as e:\n",
    "    print(f\"Error creating table: {e}\")\n",
    "    connection.rollback()\n",
    "  finally:\n",
    "    cursor.close()\n",
    "    connection.close()\n",
    "else:\n",
    "  print(\"Table 'securities' already exists.\")"
   ]
  },
  {
   "cell_type": "code",
   "execution_count": 13,
   "id": "85266a3b",
   "metadata": {},
   "outputs": [
    {
     "name": "stdout",
     "output_type": "stream",
     "text": [
      "Table 'price_data' already exists.\n"
     ]
    }
   ],
   "source": [
    "connection = sqlite3.connect('risk_analysis.db')\n",
    "cursor = connection.cursor()\n",
    "\n",
    "sql_create_table = \"\"\"\n",
    "CREATE TABLE price_data (\n",
    "  ticker TEXT,\n",
    "  date DATE,\n",
    "  price REAL NOT NULL,\n",
    "  pe_ratio REAL,\n",
    "  volume INTEGER,\n",
    "  beta REAL,\n",
    "  FOREIGN KEY (ticker) REFERENCES securities(ticker),\n",
    "  PRIMARY KEY (ticker, date)\n",
    ")\n",
    "\"\"\"\n",
    "# Check if the 'securities' table exists\n",
    "cursor.execute(\"SELECT name FROM sqlite_master WHERE type='table' AND name='price_data';\")\n",
    "table_exists = cursor.fetchone()\n",
    "\n",
    "if not table_exists:\n",
    "  try:\n",
    "    cursor.execute(sql_create_table)\n",
    "    connection.commit()\n",
    "  except Exception as e:\n",
    "    print(f\"Error creating table: {e}\")\n",
    "    connection.rollback()\n",
    "  finally:\n",
    "    cursor.close()\n",
    "    connection.close()\n",
    "else:\n",
    "  print(\"Table 'price_data' already exists.\")"
   ]
  },
  {
   "cell_type": "code",
   "execution_count": 14,
   "id": "03c4ebfc",
   "metadata": {},
   "outputs": [
    {
     "name": "stdout",
     "output_type": "stream",
     "text": [
      "Database and tables created successfully!\n"
     ]
    },
    {
     "data": {
      "text/plain": [
       "<sqlite3.Connection at 0x156cfcd3d30>"
      ]
     },
     "execution_count": 14,
     "metadata": {},
     "output_type": "execute_result"
    }
   ],
   "source": [
    "def create_financial_database():\n",
    "  stock_data_table = \"\"\"\n",
    "    CREATE TABLE IF NOT EXISTS securities (\n",
    "    ticker TEXT PRIMARY KEY,\n",
    "    company_name TEXT NOT NULL,\n",
    "    industry TEXT,\n",
    "    shares_outstanding INTEGER,\n",
    "    current_beta REAL\n",
    "    )\n",
    "  \"\"\"\n",
    "  \n",
    "  price_data_table = \"\"\"\n",
    "    CREATE TABLE IF NOT EXISTS price_data (\n",
    "    ticker TEXT,\n",
    "    date DATE,\n",
    "    price REAL NOT NULL,\n",
    "    pe_ratio REAL,\n",
    "    volume INTEGER,\n",
    "    beta REAL,\n",
    "    FOREIGN KEY (ticker) REFERENCES securities(ticker),\n",
    "    PRIMARY KEY (ticker, date)\n",
    "    )\n",
    "  \"\"\"\n",
    "\n",
    "  try:\n",
    "    with sqlite3.connect('risk_analysis.db') as conn:\n",
    "      cursor = conn.cursor()\n",
    "\n",
    "      cursor.execute(stock_data_table)\n",
    "      cursor.execute(price_data_table)\n",
    "      \n",
    "      print(\"Database and tables created successfully!\")\n",
    "      return conn\n",
    "    \n",
    "  except sqlite3.Error as e:\n",
    "    print(f'Database error: {e}')\n",
    "    return None\n",
    "\n",
    "create_financial_database()"
   ]
  }
 ],
 "metadata": {
  "kernelspec": {
   "display_name": "Python 3",
   "language": "python",
   "name": "python3"
  },
  "language_info": {
   "codemirror_mode": {
    "name": "ipython",
    "version": 3
   },
   "file_extension": ".py",
   "mimetype": "text/x-python",
   "name": "python",
   "nbconvert_exporter": "python",
   "pygments_lexer": "ipython3",
   "version": "3.12.3"
  }
 },
 "nbformat": 4,
 "nbformat_minor": 5
}
