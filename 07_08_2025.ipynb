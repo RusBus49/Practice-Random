{
 "cells": [
  {
   "cell_type": "code",
   "execution_count": 1,
   "id": "98d5a4b1",
   "metadata": {},
   "outputs": [],
   "source": [
    "import sqlite3"
   ]
  },
  {
   "cell_type": "code",
   "execution_count": 8,
   "id": "37153a42",
   "metadata": {},
   "outputs": [
    {
     "name": "stdout",
     "output_type": "stream",
     "text": [
      "[(3, 3, 'Mike')]\n"
     ]
    }
   ],
   "source": [
    "def data_count(): \n",
    "  with sqlite3.connect(\"practice.db\") as conn:\n",
    "    c = conn.cursor()\n",
    "  \n",
    "    c.execute(\"\"\"SELECT\n",
    "      COUNT(*) OVER() as row_count,\n",
    "      id,\n",
    "      first_name\n",
    "    FROM first_name\n",
    "    ORDER BY id DESC\n",
    "    LIMIT 1;\"\"\")\n",
    "    \n",
    "    result = c.fetchall()\n",
    "    return result\n",
    "\n",
    "\n",
    "print(data_count())"
   ]
  }
 ],
 "metadata": {
  "kernelspec": {
   "display_name": "Python 3",
   "language": "python",
   "name": "python3"
  },
  "language_info": {
   "codemirror_mode": {
    "name": "ipython",
    "version": 3
   },
   "file_extension": ".py",
   "mimetype": "text/x-python",
   "name": "python",
   "nbconvert_exporter": "python",
   "pygments_lexer": "ipython3",
   "version": "3.12.3"
  }
 },
 "nbformat": 4,
 "nbformat_minor": 5
}
